{
 "cells": [
  {
   "cell_type": "markdown",
   "metadata": {},
   "source": [
    "VARIABLE"
   ]
  },
  {
   "cell_type": "code",
   "execution_count": 1,
   "metadata": {},
   "outputs": [
    {
     "name": "stdout",
     "output_type": "stream",
     "text": [
      "12\n"
     ]
    }
   ],
   "source": [
    "num1=5\n",
    "num2=7\n",
    "add=num1+num2\n",
    "print(add)"
   ]
  },
  {
   "cell_type": "code",
   "execution_count": 2,
   "metadata": {},
   "outputs": [
    {
     "name": "stdout",
     "output_type": "stream",
     "text": [
      "the mul of num1 and num2:\n",
      "90\n"
     ]
    }
   ],
   "source": [
    "num1=45\n",
    "num2=2\n",
    "mul=num1*num2\n",
    "print(\"the mul of num1 and num2:\")\n",
    "print(mul)"
   ]
  },
  {
   "cell_type": "code",
   "execution_count": 5,
   "metadata": {},
   "outputs": [
    {
     "name": "stdout",
     "output_type": "stream",
     "text": [
      "The radius of the circle: 2\n",
      "the value of pi 3.14\n",
      "the area of the circle formula: pi*radius*radius\n",
      "the area of the circle: 12.56\n"
     ]
    }
   ],
   "source": [
    "radius=2\n",
    "print('The radius of the circle:',radius)\n",
    "pi=3.14\n",
    "print('the value of pi',pi)\n",
    "acircle=radius*radius*pi\n",
    "print('the area of the circle formula: pi*radius*radius')\n",
    "print('the area of the circle:',acircle)"
   ]
  },
  {
   "cell_type": "code",
   "execution_count": null,
   "metadata": {},
   "outputs": [],
   "source": [
    "rad"
   ]
  }
 ],
 "metadata": {
  "kernelspec": {
   "display_name": "Python 3",
   "language": "python",
   "name": "python3"
  },
  "language_info": {
   "codemirror_mode": {
    "name": "ipython",
    "version": 3
   },
   "file_extension": ".py",
   "mimetype": "text/x-python",
   "name": "python",
   "nbconvert_exporter": "python",
   "pygments_lexer": "ipython3",
   "version": "3.7.4"
  }
 },
 "nbformat": 4,
 "nbformat_minor": 2
}
