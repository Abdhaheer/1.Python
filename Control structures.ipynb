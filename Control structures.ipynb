{
 "cells": [
  {
   "cell_type": "code",
   "execution_count": 3,
   "metadata": {},
   "outputs": [
    {
     "name": "stdout",
     "output_type": "stream",
     "text": [
      "please enter the age:25\n",
      "ADULT\n"
     ]
    }
   ],
   "source": [
    "age=int(input(\"please enter the age:\"))\n",
    "if(age>=18):\n",
    "    print(\"ADULT\")\n",
    "else:\n",
    "    print(\"CHILDREN\")\n",
    "\n",
    "\n"
   ]
  },
  {
   "cell_type": "code",
   "execution_count": 8,
   "metadata": {},
   "outputs": [
    {
     "name": "stdout",
     "output_type": "stream",
     "text": [
      "please enter the age:100\n",
      "SENIOR CITIZEN\n"
     ]
    }
   ],
   "source": [
    "age=int(input(\"please enter the age:\"))\n",
    "if(age<=18):\n",
    "    print(\"CHILDREN\")\n",
    "elif(age<=35):\n",
    "    print(\"ADULT\")\n",
    "elif(age<=59):\n",
    "    print(\"CITIZEN\")\n",
    "elif(age>=60):\n",
    "    print(\"SENIOR CITIZEN\")\n",
    "    "
   ]
  },
  {
   "cell_type": "code",
   "execution_count": 9,
   "metadata": {},
   "outputs": [
    {
     "name": "stdout",
     "output_type": "stream",
     "text": [
      "0\n",
      "1\n",
      "2\n",
      "3\n",
      "4\n"
     ]
    }
   ],
   "source": [
    "for temp in(range(0,5)):\n",
    "    print(temp)\n",
    "   "
   ]
  },
  {
   "cell_type": "code",
   "execution_count": 21,
   "metadata": {},
   "outputs": [
    {
     "name": "stdout",
     "output_type": "stream",
     "text": [
      "Abu\n",
      "baskar\n",
      "cowshik\n",
      "dinesh\n"
     ]
    }
   ],
   "source": [
    "list1=[\"Abu\",\"baskar\",\"cowshik\",\"dinesh\"]\n",
    "for temp in list1:\n",
    "    print(temp)\n",
    "    \n"
   ]
  }
 ],
 "metadata": {
  "kernelspec": {
   "display_name": "Python 3",
   "language": "python",
   "name": "python3"
  },
  "language_info": {
   "codemirror_mode": {
    "name": "ipython",
    "version": 3
   },
   "file_extension": ".py",
   "mimetype": "text/x-python",
   "name": "python",
   "nbconvert_exporter": "python",
   "pygments_lexer": "ipython3",
   "version": "3.7.4"
  }
 },
 "nbformat": 4,
 "nbformat_minor": 2
}
