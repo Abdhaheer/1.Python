{
 "cells": [
  {
   "cell_type": "code",
   "execution_count": 2,
   "metadata": {},
   "outputs": [
    {
     "name": "stdout",
     "output_type": "stream",
     "text": [
      "enter the number1:5\n",
      "enter the number2:2\n",
      "7\n"
     ]
    }
   ],
   "source": [
    "value1=int(input(\"enter the number1:\"))\n",
    "value2=int(input(\"enter the number2:\"))\n",
    "num1=value1\n",
    "num2=value2\n",
    "add=num1+num2\n",
    "print(add)"
   ]
  },
  {
   "cell_type": "code",
   "execution_count": 3,
   "metadata": {},
   "outputs": [
    {
     "name": "stdout",
     "output_type": "stream",
     "text": [
      "enter the number1:10\n",
      "enter the number2:5\n",
      "5\n"
     ]
    }
   ],
   "source": [
    "value1=int(input(\"enter the number1:\"))\n",
    "value2=int(input(\"enter the number2:\"))\n",
    "num1=value1\n",
    "num2=value2\n",
    "sub=num1-num2\n",
    "print(sub)"
   ]
  },
  {
   "cell_type": "code",
   "execution_count": 4,
   "metadata": {},
   "outputs": [],
   "source": [
    "def addoperation():\n",
    "    value1=int(input(\"enter the number1:\"))\n",
    "    value2=int(input(\"enter the number2:\"))\n",
    "    num1=value1\n",
    "    num2=value2\n",
    "    add=num1+num2\n",
    "    print(add)"
   ]
  },
  {
   "cell_type": "code",
   "execution_count": 5,
   "metadata": {},
   "outputs": [],
   "source": [
    "def suboperation():\n",
    "    value1=int(input(\"enter the number1:\"))\n",
    "    value2=int(input(\"enter the number2:\"))\n",
    "    num1=value1\n",
    "    num2=value2\n",
    "    sub=num1-num2\n",
    "    print(sub)"
   ]
  },
  {
   "cell_type": "code",
   "execution_count": 6,
   "metadata": {},
   "outputs": [],
   "source": [
    "class calculator():\n",
    "    def addoperation():\n",
    "        value1=int(input(\"enter the number1:\"))\n",
    "        value2=int(input(\"enter the number2:\"))\n",
    "        num1=value1\n",
    "        num2=value2\n",
    "        add=num1+num2\n",
    "        print(add)\n",
    "    def suboperation():\n",
    "        value1=int(input(\"enter the number1:\"))\n",
    "        value2=int(input(\"enter the number2:\"))\n",
    "        num1=value1\n",
    "        num2=value2\n",
    "        sub=num1-num2\n",
    "        print(sub)"
   ]
  },
  {
   "cell_type": "code",
   "execution_count": 8,
   "metadata": {},
   "outputs": [
    {
     "name": "stdout",
     "output_type": "stream",
     "text": [
      "enter the number1:6\n",
      "enter the number2:5\n",
      "11\n"
     ]
    }
   ],
   "source": [
    "calculator.addoperation()"
   ]
  },
  {
   "cell_type": "code",
   "execution_count": 9,
   "metadata": {},
   "outputs": [
    {
     "name": "stdout",
     "output_type": "stream",
     "text": [
      "enter the number1:15\n",
      "enter the number2:3\n",
      "12\n"
     ]
    }
   ],
   "source": [
    "calculator.suboperation()"
   ]
  },
  {
   "cell_type": "code",
   "execution_count": null,
   "metadata": {},
   "outputs": [],
   "source": []
  }
 ],
 "metadata": {
  "kernelspec": {
   "display_name": "Python 3",
   "language": "python",
   "name": "python3"
  },
  "language_info": {
   "codemirror_mode": {
    "name": "ipython",
    "version": 3
   },
   "file_extension": ".py",
   "mimetype": "text/x-python",
   "name": "python",
   "nbconvert_exporter": "python",
   "pygments_lexer": "ipython3",
   "version": "3.7.4"
  }
 },
 "nbformat": 4,
 "nbformat_minor": 2
}
